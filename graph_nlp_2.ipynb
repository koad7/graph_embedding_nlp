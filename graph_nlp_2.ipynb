{
 "cells": [
  {
   "cell_type": "markdown",
   "id": "b3e400cb-f6ac-453e-b97a-2e8486681a9c",
   "metadata": {},
   "source": [
    "# 1. Load Citation Graph and Construct node2vec Embeddings\n",
    "\n"
   ]
  },
  {
   "cell_type": "code",
   "execution_count": null,
   "id": "e2ae8b6a-0a20-4d4a-b225-361b7da433da",
   "metadata": {},
   "outputs": [],
   "source": []
  },
  {
   "cell_type": "markdown",
   "id": "e1ccaace-e6e7-4ac0-8d2c-38bbcdb4b1af",
   "metadata": {},
   "source": [
    "# 2. Visualize Embeddings in a 2D Space\n",
    "\n"
   ]
  },
  {
   "cell_type": "code",
   "execution_count": null,
   "id": "f1332ffb-1780-4eca-b3c4-c1c66ffd4e0a",
   "metadata": {},
   "outputs": [],
   "source": []
  },
  {
   "cell_type": "markdown",
   "id": "c0c3ef64-2565-4821-893f-f99dfb45501e",
   "metadata": {},
   "source": [
    "# 3. Discover Similar Documents"
   ]
  },
  {
   "cell_type": "code",
   "execution_count": null,
   "id": "e993798b-b1cb-4652-8149-f07e45198f10",
   "metadata": {},
   "outputs": [],
   "source": []
  }
 ],
 "metadata": {
  "kernelspec": {
   "display_name": "Python 3 (ipykernel)",
   "language": "python",
   "name": "python3"
  },
  "language_info": {
   "codemirror_mode": {
    "name": "ipython",
    "version": 3
   },
   "file_extension": ".py",
   "mimetype": "text/x-python",
   "name": "python",
   "nbconvert_exporter": "python",
   "pygments_lexer": "ipython3",
   "version": "3.9.13"
  }
 },
 "nbformat": 4,
 "nbformat_minor": 5
}
